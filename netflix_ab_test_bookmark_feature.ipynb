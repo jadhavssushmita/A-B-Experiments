{
 "cells": [
  {
   "cell_type": "markdown",
   "id": "bed33020-40e7-474c-9cc3-dc92b6b70f34",
   "metadata": {},
   "source": [
    "## Project Title\n",
    "Improving Bookmark Feature Adoption on Netflix via A/B Testing\n"
   ]
  },
  {
   "cell_type": "markdown",
   "id": "395bc9d9-7165-4271-80fd-8dfd2aeddd66",
   "metadata": {},
   "source": [
    "# About new Feature\n",
    "Netflix introduces a “Bookmark This Episode” feature allowing users to save an episode they liked to re-watch or share later. The Product team wants to test if a gentle prompt at the end of the episode saying “Loved it? Bookmark to come back later!” increases feature usage.\n",
    "\n"
   ]
  },
  {
   "cell_type": "markdown",
   "id": "57679910-10c3-4df8-abf2-c869dd7dfe11",
   "metadata": {},
   "source": [
    "# Business Question\n",
    "Does showing a bookmark prompt at the end of an episode increase feature usage compared to not showing it?\n"
   ]
  },
  {
   "cell_type": "markdown",
   "id": "f662b215-dd04-41b5-b17c-06a3beece192",
   "metadata": {},
   "source": [
    "# Metric Scoping\n",
    "Northstar / Primary: Bookmark Feature Adoption Rate (binary: used/not used) <br>\n",
    "Secondary (optional for later): Repeat viewing of bookmarked episodes\n"
   ]
  },
  {
   "cell_type": "markdown",
   "id": "5808b27b-5021-4339-b4f0-f67235b3235b",
   "metadata": {},
   "source": [
    "# Data Design\n",
    "Total Users: 100,000 <br>\n",
    "Group A (Control): No prompt - baseline usage ~8% <br>\n",
    "Group B (Treatment): Prompt shown - expected uplift to ~10%\n"
   ]
  },
  {
   "cell_type": "code",
   "execution_count": 7,
   "id": "808af657-0a55-4211-8311-b4e9c6e8e678",
   "metadata": {},
   "outputs": [],
   "source": [
    "# Installing necessary libraries\n",
    "import pandas as pd\n",
    "import numpy as np\n",
    "import matplotlib.pyplot as plt\n",
    "import seaborn as sns\n",
    "from statsmodels.stats.proportion import proportions_ztest\n"
   ]
  },
  {
   "cell_type": "code",
   "execution_count": 8,
   "id": "5550bf16-ea29-4557-814f-e51b1b44b2bb",
   "metadata": {},
   "outputs": [],
   "source": [
    "np.random.seed(2025)\n",
    "n = 100_000\n",
    "group = np.random.choice(['control', 'treatment'], size=n)\n",
    "\n",
    "# Control: 8% conversion | Treatment: 10%\n",
    "bookmark = np.where(group == 'control',\n",
    "                    np.random.binomial(1, 0.08, size=n),\n",
    "                    np.random.binomial(1, 0.10, size=n))\n",
    "\n",
    "df = pd.DataFrame({\n",
    "    'user_id': np.arange(1, n+1),\n",
    "    'group': group,\n",
    "    'bookmark_used': bookmark\n",
    "})\n"
   ]
  },
  {
   "cell_type": "code",
   "execution_count": 9,
   "id": "903c0ec5-0fae-47d3-a354-e8171a45c8d6",
   "metadata": {},
   "outputs": [
    {
     "data": {
      "text/html": [
       "<div>\n",
       "<style scoped>\n",
       "    .dataframe tbody tr th:only-of-type {\n",
       "        vertical-align: middle;\n",
       "    }\n",
       "\n",
       "    .dataframe tbody tr th {\n",
       "        vertical-align: top;\n",
       "    }\n",
       "\n",
       "    .dataframe thead th {\n",
       "        text-align: right;\n",
       "    }\n",
       "</style>\n",
       "<table border=\"1\" class=\"dataframe\">\n",
       "  <thead>\n",
       "    <tr style=\"text-align: right;\">\n",
       "      <th></th>\n",
       "      <th>user_id</th>\n",
       "      <th>group</th>\n",
       "      <th>bookmark_used</th>\n",
       "    </tr>\n",
       "  </thead>\n",
       "  <tbody>\n",
       "    <tr>\n",
       "      <th>0</th>\n",
       "      <td>1</td>\n",
       "      <td>control</td>\n",
       "      <td>0</td>\n",
       "    </tr>\n",
       "    <tr>\n",
       "      <th>1</th>\n",
       "      <td>2</td>\n",
       "      <td>control</td>\n",
       "      <td>0</td>\n",
       "    </tr>\n",
       "    <tr>\n",
       "      <th>2</th>\n",
       "      <td>3</td>\n",
       "      <td>control</td>\n",
       "      <td>0</td>\n",
       "    </tr>\n",
       "    <tr>\n",
       "      <th>3</th>\n",
       "      <td>4</td>\n",
       "      <td>control</td>\n",
       "      <td>0</td>\n",
       "    </tr>\n",
       "    <tr>\n",
       "      <th>4</th>\n",
       "      <td>5</td>\n",
       "      <td>control</td>\n",
       "      <td>0</td>\n",
       "    </tr>\n",
       "  </tbody>\n",
       "</table>\n",
       "</div>"
      ],
      "text/plain": [
       "   user_id    group  bookmark_used\n",
       "0        1  control              0\n",
       "1        2  control              0\n",
       "2        3  control              0\n",
       "3        4  control              0\n",
       "4        5  control              0"
      ]
     },
     "execution_count": 9,
     "metadata": {},
     "output_type": "execute_result"
    }
   ],
   "source": [
    "df.head()"
   ]
  },
  {
   "cell_type": "markdown",
   "id": "58eba370-220f-4e1d-9a4a-16b9993d5fe5",
   "metadata": {},
   "source": [
    "# Adoption Rates"
   ]
  },
  {
   "cell_type": "code",
   "execution_count": 11,
   "id": "35065c5f-17a6-42f9-9f2b-19aace5931ec",
   "metadata": {},
   "outputs": [
    {
     "name": "stdout",
     "output_type": "stream",
     "text": [
      "Adoption Rates:\n",
      " group\n",
      "control      0.082077\n",
      "treatment    0.103457\n",
      "Name: bookmark_used, dtype: float64\n"
     ]
    }
   ],
   "source": [
    "rates = df.groupby('group')['bookmark_used'].mean()\n",
    "print(\"Adoption Rates:\\n\", rates)\n"
   ]
  },
  {
   "cell_type": "markdown",
   "id": "f7037253-4879-4dc4-899e-4845613ce517",
   "metadata": {},
   "source": [
    "# Z-Test for Significance"
   ]
  },
  {
   "cell_type": "code",
   "execution_count": 13,
   "id": "43366861-5083-4578-9f39-8511f7478397",
   "metadata": {},
   "outputs": [
    {
     "name": "stdout",
     "output_type": "stream",
     "text": [
      "Z-stat: -11.66, P-value: 0.0000\n"
     ]
    }
   ],
   "source": [
    "success_counts = df.groupby('group')['bookmark_used'].sum().values\n",
    "n_obs = df['group'].value_counts().sort_index().values\n",
    "\n",
    "z_stat, p_val = proportions_ztest(success_counts, n_obs)\n",
    "print(f\"Z-stat: {z_stat:.2f}, P-value: {p_val:.4f}\")\n"
   ]
  },
  {
   "cell_type": "markdown",
   "id": "09a9edc4-3b0d-426f-ad05-360d4ef71730",
   "metadata": {},
   "source": [
    "# Plot Results"
   ]
  },
  {
   "cell_type": "code",
   "execution_count": 15,
   "id": "15ceb5de-a6e3-4ee3-ad19-c77846d406d5",
   "metadata": {
    "scrolled": true
   },
   "outputs": [
    {
     "data": {
      "image/png": "[encoded data removed]",
      "text/plain": [
       "<Figure size 640x480 with 1 Axes>"
      ]
     },
     "metadata": {},
     "output_type": "display_data"
    }
   ],
   "source": [
    "\n",
    "sns.barplot(x=rates.index, y=rates.values)\n",
    "plt.title(\"Bookmark Feature Adoption – Netflix A/B Test\")\n",
    "plt.ylabel(\"Adoption Rate\")\n",
    "plt.ylim(0, 0.12)\n",
    "plt.show()\n"
   ]
  },
  {
   "cell_type": "markdown",
   "id": "83861152-3302-4e9f-81fb-44c8c434d3c4",
   "metadata": {},
   "source": [
    "# Conclusion\n",
    "\n",
    "Finding: The prompt led to a statistically significant lift from 8% to 10% in bookmark usage (+25% relative increase, p < 0.01).\n",
    "<br>\n",
    "Recommendation: Roll out prompt universally and monitor consumption."
   ]
  },
  {
   "cell_type": "code",
   "execution_count": null,
   "id": "7f1f8306-fcc2-4f12-86cd-48a4245a1c1f",
   "metadata": {},
   "outputs": [],
   "source": []
  }
 ],
 "metadata": {
  "kernelspec": {
   "display_name": "Python [conda env:base] *",
   "language": "python",
   "name": "conda-base-py"
  },
  "language_info": {
   "codemirror_mode": {
    "name": "ipython",
    "version": 3
   },
   "file_extension": ".py",
   "mimetype": "text/x-python",
   "name": "python",
   "nbconvert_exporter": "python",
   "pygments_lexer": "ipython3",
   "version": "3.12.7"
  }
 },
 "nbformat": 4,
 "nbformat_minor": 5
}
